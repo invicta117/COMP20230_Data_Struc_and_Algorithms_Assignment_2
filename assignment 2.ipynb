{
 "cells": [
  {
   "cell_type": "code",
   "execution_count": 1,
   "metadata": {},
   "outputs": [],
   "source": [
    "import unittest\n",
    "from unittest.mock import patch\n",
    "from io import StringIO\n",
    "import time\n",
    "import matplotlib.pyplot as plt\n",
    "import sys\n",
    "import numpy as np"
   ]
  },
  {
   "cell_type": "code",
   "execution_count": 2,
   "metadata": {},
   "outputs": [],
   "source": [
    "%config Completer.use_jedi = False"
   ]
  },
  {
   "cell_type": "code",
   "execution_count": 3,
   "metadata": {},
   "outputs": [],
   "source": [
    "%config IPCompleter.greedy=True"
   ]
  },
  {
   "cell_type": "markdown",
   "metadata": {},
   "source": [
    "# Part I:\n",
    "## 1) Write a class called myLinkedList that implements the following singly linked list interface:\n",
    "* add_first:  adding an element at the front\n",
    "\n",
    "* add_last:  adding an element at the end\n",
    "\n",
    "* remove_first:  removing a node at the front\n",
    "\n",
    "* list_traversal:  every node in the list has been seen"
   ]
  },
  {
   "cell_type": "code",
   "execution_count": 4,
   "metadata": {},
   "outputs": [],
   "source": [
    "class myLinkedList(): # create class myLinkedList\n",
    "    \"\"\"Implementation of singly linked list interface\"\"\"\n",
    "    def __init__(self): # constructor\n",
    "        self.head = None # set head to None as new linked list\n",
    "        self.tail = None # set tail to None as new linked list\n",
    "        self.current = None # set current to None as new linked list\n",
    "        self.size = 0 # set size to zero\n",
    "        \n",
    "    @property # use a property to allow getters and setters for attribute size\n",
    "    def size(self):\n",
    "        \"\"\"getter method for attribute size\"\"\"\n",
    "        return self._size # return the weakly private variable _size\n",
    "\n",
    "    @size.setter # define setter for size\n",
    "    def size(self, value):\n",
    "        \"\"\"setter method for attribute size\"\"\"\n",
    "        if value >= 0: # allow the size to be 0 or larger, do not set values less than 0\n",
    "            self._size = value\n",
    "    \n",
    "    def add_first(self, val): # add method add_first as per question\n",
    "        \"\"\"Method to add an element to the start of the linked list with value val passed as arg\"\"\"\n",
    "        element = myLinkedList.myNode(val) # use the myNode helper class defined below\n",
    "        if self.head == None: # if the head value is None this is the first element to be added then\n",
    "            self.tail = element # set tail to this element also as first element to be added\n",
    "        element.next = self.head # set the next pointer for the current element to the current head\n",
    "        self.head = element # set head to the new element\n",
    "        self.size += 1 # increase size by 1\n",
    "        \n",
    "    def add_last(self, val): # add method add_last as per question\n",
    "        \"\"\"Method to add an element to the end of the linked list with value val passed as arg\"\"\"\n",
    "        element = myLinkedList.myNode(val) # create a new node using the myNode helper class below\n",
    "        element.next = None # as last element set next to None\n",
    "        if self.tail == None: # if the tail for the list is None then this is the first element then\n",
    "            self.head = element # set head to current element\n",
    "        else: # otherwise tail will have a next attribute\n",
    "            self.tail.next = element # set old tail next to new element\n",
    "        self.tail = element # set tail to  new element\n",
    "        self.size += 1 # increase the size by 1\n",
    "    \n",
    "    def remove_first(self): # add new method remove_first as per question\n",
    "        \"\"\"Method to remove an element from the start of the linked list\"\"\"\n",
    "        if self.head == None: # check that linked list has a first element, if it does not head will be None, then\n",
    "            raise IndexError(\"Error linked list is empty\") # raise error\n",
    "        self.head = self.head.get_next() # set head to the next element after head\n",
    "        self.size -= 1 # reduce size by 1\n",
    "    \n",
    "    def list_traversal(self): # define method list_traversal as per question\n",
    "        \"\"\"Method to return the value of each element in the linked list\"\"\"\n",
    "        self.current = self.head # set current to the head of the list\n",
    "        while self.current != None: # loop while the current element is not None\n",
    "            print(self.current.get_element()) # print element value\n",
    "            self.current = self.current.get_next() # set current to the next element after current in the list\n",
    "    \n",
    "    class myNode(): # helper class myNode, I used this because it was the easiest way I could think of having methods, get_element(), get_next() as well as storing values\n",
    "        \"\"\"Helper class for linked list. Creates elements of linked list, has methods get_next pointing to the next element in the list and get_element to return the value in the element, takes argument val which is the value stored in the element of the linked list\"\"\"\n",
    "        def __init__(self, val): # constructor\n",
    "            self.val = val # set val to arg passed into myNode\n",
    "            self.next = None # set next to the default of None\n",
    "            \n",
    "        def get_next(self): # define get_next getter method\n",
    "            return self.next # return next\n",
    "        \n",
    "        def get_element(self): # define get_element getter method\n",
    "            return self.val # return val"
   ]
  },
  {
   "cell_type": "markdown",
   "metadata": {},
   "source": [
    "### Give examples to test the operation of myLinkedList such as adding new elements to the list and removing elements from the list.  Print the content of the list after each operation"
   ]
  },
  {
   "cell_type": "code",
   "execution_count": 5,
   "metadata": {},
   "outputs": [
    {
     "name": "stdout",
     "output_type": "stream",
     "text": [
      "1\n",
      "2\n",
      "3\n",
      "4\n",
      "5\n"
     ]
    }
   ],
   "source": [
    "# adding elements to the end list examples\n",
    "l = myLinkedList()\n",
    "l.add_last(1)\n",
    "l.add_last(2)\n",
    "l.add_last(3)\n",
    "l.add_last(4)\n",
    "l.add_last(5)\n",
    "l.list_traversal()"
   ]
  },
  {
   "cell_type": "code",
   "execution_count": 6,
   "metadata": {},
   "outputs": [
    {
     "name": "stdout",
     "output_type": "stream",
     "text": [
      "5\n",
      "4\n",
      "3\n",
      "2\n",
      "1\n"
     ]
    }
   ],
   "source": [
    "# adding elements to the start list examples\n",
    "l = myLinkedList()\n",
    "l.add_first(1)\n",
    "l.add_first(2)\n",
    "l.add_first(3)\n",
    "l.add_first(4)\n",
    "l.add_first(5)\n",
    "l.list_traversal()"
   ]
  },
  {
   "cell_type": "code",
   "execution_count": 7,
   "metadata": {},
   "outputs": [
    {
     "name": "stdout",
     "output_type": "stream",
     "text": [
      "2\n",
      "3\n",
      "4\n",
      "5\n"
     ]
    }
   ],
   "source": [
    "# removing elements from list examples\n",
    "l = myLinkedList()\n",
    "l.add_last(1)\n",
    "l.add_last(2)\n",
    "l.add_last(3)\n",
    "l.add_last(4)\n",
    "l.add_last(5)\n",
    "l.remove_first()\n",
    "l.list_traversal()"
   ]
  },
  {
   "cell_type": "code",
   "execution_count": 8,
   "metadata": {},
   "outputs": [],
   "source": [
    "# removing elements from list examples\n",
    "l = myLinkedList()\n",
    "l.add_last(1)\n",
    "l.remove_first()\n",
    "l.list_traversal()"
   ]
  },
  {
   "cell_type": "code",
   "execution_count": 9,
   "metadata": {},
   "outputs": [
    {
     "name": "stdout",
     "output_type": "stream",
     "text": [
      "Caught error: Error linked list is empty\n"
     ]
    }
   ],
   "source": [
    "# removing elements from list examples, raise error\n",
    "l = myLinkedList()\n",
    "try:\n",
    "    l.remove_first()\n",
    "except IndexError as e:\n",
    "    print(\"Caught error:\", e)\n",
    "l.list_traversal()"
   ]
  },
  {
   "cell_type": "markdown",
   "metadata": {},
   "source": [
    "### Unit tests myLinkedList"
   ]
  },
  {
   "cell_type": "code",
   "execution_count": 10,
   "metadata": {},
   "outputs": [
    {
     "name": "stderr",
     "output_type": "stream",
     "text": [
      "test1 (__main__.TestLinkedList)\n",
      "Test list traversal output works as expected for adding last ... ok\n",
      "test2 (__main__.TestLinkedList)\n",
      "Test list traversal output works as expected for adding first ... ok\n",
      "test3 (__main__.TestLinkedList)\n",
      "Test list traversal output works as expected for adding first and last ... ok\n",
      "test4 (__main__.TestLinkedList)\n",
      "Test list traversal output works as expected for more adding ... ok\n",
      "test5 (__main__.TestLinkedList)\n",
      "Test size attribute works as expected for adding and removing ... ok\n",
      "test6 (__main__.TestLinkedList)\n",
      "Test error rasied when removing too many elements ... ok\n",
      "test7 (__main__.TestLinkedList)\n",
      "Test size attribute works as expected for adding and removing ... ok\n",
      "test8 (__main__.TestLinkedList)\n",
      "Test error rasied when removing too many elements ... ok\n",
      "\n",
      "----------------------------------------------------------------------\n",
      "Ran 8 tests in 0.007s\n",
      "\n",
      "OK\n"
     ]
    },
    {
     "data": {
      "text/plain": [
       "<unittest.main.TestProgram at 0x2151389b430>"
      ]
     },
     "execution_count": 10,
     "metadata": {},
     "output_type": "execute_result"
    }
   ],
   "source": [
    "# these unit tests are based on the code presented in lab 3\n",
    "# testing standard ouput from https://www.geeksforgeeks.org/python-testing-output-to-stdout/\n",
    "class TestLinkedList(unittest.TestCase):\n",
    "    \"\"\"Unit tests for the myLinkedList class\"\"\"\n",
    "    def test1(self):\n",
    "        \"\"\"Test list traversal output works as expected for adding last\"\"\"\n",
    "        l = myLinkedList()\n",
    "        l.add_last(1)\n",
    "        l.add_last(2)\n",
    "        expected_out = \"1\\n2\\n\"\n",
    "        with patch('sys.stdout', new = StringIO()) as fake_out:\n",
    "            l.list_traversal()\n",
    "            self.assertEqual(fake_out.getvalue(), expected_out)\n",
    "            \n",
    "    def test2(self):\n",
    "        \"\"\"Test list traversal output works as expected for adding first\"\"\"\n",
    "        l = myLinkedList()\n",
    "        l.add_first(1)\n",
    "        l.add_first(2)\n",
    "        expected_out = \"2\\n1\\n\"\n",
    "        with patch('sys.stdout', new = StringIO()) as fake_out:\n",
    "            l.list_traversal()\n",
    "            self.assertEqual(fake_out.getvalue(), expected_out)\n",
    "            \n",
    "    def test3(self):\n",
    "        \"\"\"Test list traversal output works as expected for adding first and last\"\"\"\n",
    "        l = myLinkedList()\n",
    "        l.add_first(1)\n",
    "        l.add_first(2)\n",
    "        l.add_last(3)\n",
    "        l.add_last(4)\n",
    "        expected_out = \"2\\n1\\n3\\n4\\n\"\n",
    "        with patch('sys.stdout', new = StringIO()) as fake_out:\n",
    "            l.list_traversal()\n",
    "            self.assertEqual(fake_out.getvalue(), expected_out)\n",
    "            \n",
    "    def test4(self):\n",
    "        \"\"\"Test list traversal output works as expected for more adding\"\"\"\n",
    "        l = myLinkedList()\n",
    "        l.add_first(1)\n",
    "        l.add_first(2)\n",
    "        l.add_first(3)\n",
    "        l.add_first(4)\n",
    "        l.remove_first()\n",
    "        expected_out = \"3\\n2\\n1\\n\"\n",
    "        with patch('sys.stdout', new = StringIO()) as fake_out:\n",
    "            l.list_traversal()\n",
    "            self.assertEqual(fake_out.getvalue(), expected_out)\n",
    "        \n",
    "    def test5(self):\n",
    "        \"\"\"Test size attribute works as expected for adding and removing\"\"\"\n",
    "        l = myLinkedList()\n",
    "        l.add_first(1)\n",
    "        l.add_first(2)\n",
    "        l.add_first(3)\n",
    "        l.add_first(4)\n",
    "        l.remove_first()\n",
    "        l.remove_first()\n",
    "        self.assertEqual(l.size, 2)\n",
    "        \n",
    "    def test6(self):\n",
    "        \"\"\"Test error rasied when removing too many elements\"\"\"\n",
    "        l = myLinkedList()\n",
    "        with self.assertRaises(IndexError):\n",
    "            l.remove_first()\n",
    "            \n",
    "    def test7(self):\n",
    "        \"\"\"Test size attribute works as expected for adding and removing\"\"\"\n",
    "        l = myLinkedList()\n",
    "        l.add_first(1)\n",
    "        l.add_first(2)\n",
    "        l.remove_first()\n",
    "        l.remove_first()\n",
    "        self.assertEqual(l.size, 0)\n",
    "        \n",
    "    def test8(self):\n",
    "        \"\"\"Test error rasied when removing too many elements\"\"\"\n",
    "        l = myLinkedList()\n",
    "        l.add_first(1)\n",
    "        l.add_first(2)\n",
    "        l.add_first(3)\n",
    "        l.remove_first()\n",
    "        l.remove_first()\n",
    "        l.remove_first()\n",
    "        with self.assertRaises(IndexError):\n",
    "            l.remove_first()\n",
    "        \n",
    "\n",
    "unittest.main(argv=[''], verbosity=2, exit=False)"
   ]
  },
  {
   "cell_type": "markdown",
   "metadata": {},
   "source": [
    "NOTE!! for the following implementations I used the linked list implementation as defined earlier. I assumed this was valid from the assignment point \"Use arrays OR linked lists to implement the stack/queue ADT\". I also implemented this to demonstrate the similarity between linked list and stacks/ queues as well as the utility my implementation of myLinkedList provides."
   ]
  },
  {
   "cell_type": "markdown",
   "metadata": {},
   "source": [
    "## 2) Define in your own words the terms:  stack ADT and queue ADT. List the key operations and support operationscommonly associated with these ADTs.  For each ADT, give two real world data examples and explain them briefly."
   ]
  },
  {
   "cell_type": "markdown",
   "metadata": {},
   "source": [
    "see the accompanying pdf"
   ]
  },
  {
   "cell_type": "markdown",
   "metadata": {},
   "source": [
    "# Part II:\n",
    "## 1) Adopt the ADT concepts of Part I (task 2) to provide acomplete implementation of a stack ADT"
   ]
  },
  {
   "cell_type": "code",
   "execution_count": 11,
   "metadata": {},
   "outputs": [],
   "source": [
    "class myStack(myLinkedList):\n",
    "    \"\"\"Implementation of a stack data structure based on a linked list, extends the superclass myLinkedList to provide functionality such as pop, push etc. for stack\"\"\"\n",
    "    def __init__(self):\n",
    "        myLinkedList.__init__(self) # call the superclass constructor with self\n",
    "        \n",
    "    def push(self, val): # define the push method for stack\n",
    "        \"\"\"Method to push value onto the stack, takes paramater val as value that will be added to the stack\"\"\"\n",
    "        self.add_first(val) # call the inherited method add_first with paramater val\n",
    "        \n",
    "    def pop(self): # define the pop method for stack\n",
    "        \"\"\"Method to pop a value from the stack, returns the value at the top of the stack\"\"\"\n",
    "        top = self.peek() # call the peek method defined below to get the top value\n",
    "        self.remove_first() # remove the top element in the stack\n",
    "        return top # return the top value\n",
    "        \n",
    "    def is_empty(self): # define the empty method for stack\n",
    "        \"\"\"Method to check if the stack is empty\"\"\"\n",
    "        return self.size == 0 # use inherited attribute size from myLinkedList\n",
    "    \n",
    "    def peek(self): # define the peek method for stack\n",
    "        \"\"\"Method to peek at the top element of the stack without removing it\"\"\"\n",
    "        if self.is_empty(): # check if the stack is empty\n",
    "            raise IndexError(\"Stack is empty, no value to return\") # return error if empty\n",
    "        return self.head.get_element() # return the head element value of the linked linked list associated with the stack"
   ]
  },
  {
   "cell_type": "markdown",
   "metadata": {},
   "source": [
    "### Give examples to test the operation of stack such asadding new elements to the list and removing elements fromthe list. "
   ]
  },
  {
   "cell_type": "code",
   "execution_count": 12,
   "metadata": {},
   "outputs": [
    {
     "data": {
      "text/plain": [
       "1"
      ]
     },
     "execution_count": 12,
     "metadata": {},
     "output_type": "execute_result"
    }
   ],
   "source": [
    "# test adding and popping values from the stack\n",
    "s = myStack()\n",
    "s.push(1)\n",
    "s.push(2)\n",
    "s.push(3)\n",
    "s.pop()\n",
    "s.pop()\n",
    "s.pop()"
   ]
  },
  {
   "cell_type": "code",
   "execution_count": 13,
   "metadata": {},
   "outputs": [
    {
     "data": {
      "text/plain": [
       "3"
      ]
     },
     "execution_count": 13,
     "metadata": {},
     "output_type": "execute_result"
    }
   ],
   "source": [
    "# test adding and popping values from the stack\n",
    "s = myStack()\n",
    "s.push(1)\n",
    "s.push(2)\n",
    "s.push(3)\n",
    "s.pop()"
   ]
  },
  {
   "cell_type": "code",
   "execution_count": 14,
   "metadata": {},
   "outputs": [
    {
     "data": {
      "text/plain": [
       "4"
      ]
     },
     "execution_count": 14,
     "metadata": {},
     "output_type": "execute_result"
    }
   ],
   "source": [
    "# test the size of the stack after adding elements\n",
    "s = myStack()\n",
    "s.push(1)\n",
    "s.push(2)\n",
    "s.push(3)\n",
    "s.push(100)\n",
    "s.size"
   ]
  },
  {
   "cell_type": "code",
   "execution_count": 15,
   "metadata": {},
   "outputs": [
    {
     "data": {
      "text/plain": [
       "False"
      ]
     },
     "execution_count": 15,
     "metadata": {},
     "output_type": "execute_result"
    }
   ],
   "source": [
    "# test the is_empty method of the stack after adding elements\n",
    "s = myStack()\n",
    "s.push(1)\n",
    "s.push(2)\n",
    "s.push(3)\n",
    "s.push(100)\n",
    "s.is_empty()"
   ]
  },
  {
   "cell_type": "code",
   "execution_count": 16,
   "metadata": {},
   "outputs": [
    {
     "data": {
      "text/plain": [
       "True"
      ]
     },
     "execution_count": 16,
     "metadata": {},
     "output_type": "execute_result"
    }
   ],
   "source": [
    "# test the is_empty method of the stack with no elements\n",
    "s = myStack()\n",
    "s.push(1)\n",
    "s.push(2)\n",
    "s.push(3)\n",
    "s.push(100)\n",
    "s.pop()\n",
    "s.pop()\n",
    "s.pop()\n",
    "s.pop()\n",
    "s.is_empty()"
   ]
  },
  {
   "cell_type": "markdown",
   "metadata": {},
   "source": [
    "## 2) What values are returned during the following series of stack operations, if executed upon an initially empty stack S?push(5), push(3), pop(), push(2), push(8), pop(), pop(),push(9), push(1), pop(), push(7), push(6), pop(), pop(),push(4), pop(), and pop()"
   ]
  },
  {
   "cell_type": "code",
   "execution_count": 17,
   "metadata": {},
   "outputs": [
    {
     "name": "stdout",
     "output_type": "stream",
     "text": [
      "3\n",
      "8\n",
      "2\n",
      "1\n",
      "6\n",
      "7\n",
      "4\n",
      "9\n"
     ]
    }
   ],
   "source": [
    "s = myStack()\n",
    "s.push(5)\n",
    "s.push(3)\n",
    "print(s.pop())\n",
    "s.push(2)\n",
    "s.push(8)\n",
    "print(s.pop())\n",
    "print(s.pop())\n",
    "s.push(9)\n",
    "s.push(1)\n",
    "print(s.pop())\n",
    "s.push(7)\n",
    "s.push(6)\n",
    "print(s.pop())\n",
    "print(s.pop())\n",
    "s.push(4)\n",
    "print(s.pop())\n",
    "print(s.pop())"
   ]
  },
  {
   "cell_type": "markdown",
   "metadata": {},
   "source": [
    "# 3) Suppose an initially empty stack S has executed a total of 35 push operations, 15 top operations, and 10 pop operations,3 of which raised Empty errors that were caught and ignored.What is the current size of S?"
   ]
  },
  {
   "cell_type": "code",
   "execution_count": 18,
   "metadata": {},
   "outputs": [
    {
     "name": "stdout",
     "output_type": "stream",
     "text": [
      "Empty error raised and ignored!\n",
      "Empty error raised and ignored!\n",
      "Empty error raised and ignored!\n",
      "Current size of S is: 28\n"
     ]
    }
   ],
   "source": [
    "S = myStack()\n",
    "for i in range(3):\n",
    "    try:\n",
    "        S.pop()\n",
    "    except IndexError as e:\n",
    "        print(\"Empty error raised and ignored!\")\n",
    "\n",
    "for i in range(35):\n",
    "    S.push(i)\n",
    "    \n",
    "for i in range(15):\n",
    "    S.peek()\n",
    "\n",
    "for i in range(7):\n",
    "    S.pop()\n",
    "\n",
    "print(\"Current size of S is:\", S.size)"
   ]
  },
  {
   "cell_type": "markdown",
   "metadata": {},
   "source": [
    "## Unit tests stack"
   ]
  },
  {
   "cell_type": "code",
   "execution_count": 19,
   "metadata": {},
   "outputs": [
    {
     "name": "stderr",
     "output_type": "stream",
     "text": [
      "test1 (__main__.TestLinkedList)\n",
      "Test list traversal output works as expected for adding last ... ok\n",
      "test2 (__main__.TestLinkedList)\n",
      "Test list traversal output works as expected for adding first ... ok\n",
      "test3 (__main__.TestLinkedList)\n",
      "Test list traversal output works as expected for adding first and last ... ok\n",
      "test4 (__main__.TestLinkedList)\n",
      "Test list traversal output works as expected for more adding ... ok\n",
      "test5 (__main__.TestLinkedList)\n",
      "Test size attribute works as expected for adding and removing ... ok\n",
      "test6 (__main__.TestLinkedList)\n",
      "Test error rasied when removing too many elements ... ok\n",
      "test7 (__main__.TestLinkedList)\n",
      "Test size attribute works as expected for adding and removing ... ok\n",
      "test8 (__main__.TestLinkedList)\n",
      "Test error rasied when removing too many elements ... ok\n",
      "test1 (__main__.TestStack)\n",
      "Test push and pop values as expected ... ok\n",
      "test3 (__main__.TestStack)\n",
      "Test push and pop values as expected rigorously ... ok\n",
      "test4 (__main__.TestStack)\n",
      "Test index error raised when popping an empty stack ... ok\n",
      "test5 (__main__.TestStack)\n",
      "Test index error raised when peeking an empty stack ... ok\n",
      "test6 (__main__.TestStack)\n",
      "Test that size attribute is accurate after pushing values ... ok\n",
      "test7 (__main__.TestStack)\n",
      "Test that size attribute is accurate after pushing and popping values ... ok\n",
      "test8 (__main__.TestStack)\n",
      "Testing peek rigorously ... ok\n",
      "test_2 (__main__.TestStack)\n",
      "Testing adding different data types to the stack ... ok\n",
      "\n",
      "----------------------------------------------------------------------\n",
      "Ran 16 tests in 0.013s\n",
      "\n",
      "OK\n"
     ]
    },
    {
     "data": {
      "text/plain": [
       "<unittest.main.TestProgram at 0x215138d8c40>"
      ]
     },
     "execution_count": 19,
     "metadata": {},
     "output_type": "execute_result"
    }
   ],
   "source": [
    "# these unit tests are based on the code presented in lab 3\n",
    "class TestStack(unittest.TestCase):\n",
    "    \"\"\"Unit tests for the myStack class\"\"\"\n",
    "    def test1(self):\n",
    "        \"\"\"Test push and pop values as expected\"\"\"\n",
    "        S = myStack()\n",
    "        S.push(1)\n",
    "        S.push(2)\n",
    "        self.assertTrue(S.pop() == 2)\n",
    "        \n",
    "    def test_2(self):\n",
    "        \"\"\"Testing adding different data types to the stack\"\"\"\n",
    "        S = myStack()\n",
    "        S.push(-1)\n",
    "        S.push(\"string\")\n",
    "        S.push(True)\n",
    "        self.assertTrue(S.pop() == True)\n",
    "        \n",
    "    def test3(self):\n",
    "        \"\"\"Test push and pop values as expected rigorously\"\"\"\n",
    "        S = myStack()\n",
    "        S.push(1)\n",
    "        S.push(2)\n",
    "        S.push(3)\n",
    "        S.push(4)\n",
    "        S.push(5)\n",
    "        self.assertTrue(S.pop() == 5)\n",
    "        self.assertTrue(S.pop() == 4)\n",
    "        self.assertTrue(S.pop() == 3)\n",
    "        self.assertTrue(S.pop() == 2)\n",
    "        self.assertTrue(S.pop() == 1)\n",
    "        \n",
    "    def test4(self):\n",
    "        \"\"\"Test index error raised when popping an empty stack\"\"\"\n",
    "        S = myStack()\n",
    "        with self.assertRaises(IndexError):\n",
    "            S.pop()\n",
    "        \n",
    "    def test5(self):\n",
    "        \"\"\"Test index error raised when peeking an empty stack\"\"\"\n",
    "        S = myStack()\n",
    "        with self.assertRaises(IndexError):\n",
    "            S.peek()\n",
    "            \n",
    "    def test6(self):\n",
    "        \"\"\"Test that size attribute is accurate after pushing values\"\"\"\n",
    "        S = myStack()\n",
    "        S.push(1)\n",
    "        S.push(2)\n",
    "        S.push(3)\n",
    "        S.push(4)\n",
    "        S.push(5)\n",
    "        self.assertTrue(S.size == 5)\n",
    "        \n",
    "    def test7(self):\n",
    "        \"\"\"Test that size attribute is accurate after pushing and popping values\"\"\"\n",
    "        S = myStack()\n",
    "        S.push(1)\n",
    "        S.push(2)\n",
    "        S.push(3)\n",
    "        S.push(4)\n",
    "        S.push(5)\n",
    "        S.pop()\n",
    "        S.pop()\n",
    "        S.pop()\n",
    "        self.assertTrue(S.size == 2)\n",
    "        \n",
    "    def test8(self):\n",
    "        \"\"\"Testing peek rigorously\"\"\"\n",
    "        S = myStack()\n",
    "        S.push(1)\n",
    "        self.assertTrue(S.peek() == 1)\n",
    "        S.push(2)\n",
    "        self.assertTrue(S.peek() == 2)\n",
    "        S.push(3)\n",
    "        self.assertTrue(S.peek() == 3)\n",
    "        S.push(4)\n",
    "        self.assertTrue(S.peek() == 4)\n",
    "        S.push(5)\n",
    "        self.assertTrue(S.peek() == 5)\n",
    "        \n",
    "        \n",
    "unittest.main(argv=[''], verbosity=2, exit=False)"
   ]
  },
  {
   "cell_type": "markdown",
   "metadata": {},
   "source": [
    "# Part III:\n",
    "\n",
    "## 1) Adopt the ADT concepts of Part I (task 2) to provide acomplete implementation of a queue ADT"
   ]
  },
  {
   "cell_type": "code",
   "execution_count": 20,
   "metadata": {},
   "outputs": [],
   "source": [
    "class myQueue(myLinkedList):\n",
    "    \"\"\"Implementation of a queue data structure based on a linked list, extends the superclass myLinkedList to provide functionality such as enqueue, dequeue etc. for queue\"\"\"\n",
    "    def __init__(self): # myQueue constructor\n",
    "        myLinkedList.__init__(self) # call superclass constructor with self\n",
    "        \n",
    "    def enqueue(self, val): # define enqueue method\n",
    "        \"\"\"Method to enqueue value passed as argument val to queue\"\"\"\n",
    "        self.add_last(val) # use the inherited add_last method from the superclass myLinkedList\n",
    "        \n",
    "    def dequeue(self): # define dequeue method\n",
    "        \"\"\"Method to dequeue element from the head of the queue, returns value at head\"\"\"\n",
    "        value = self.front() # call the front method defined below to get the front elements value\n",
    "        self.remove_first() # use the remove_first method from the superclass myLinkedList\n",
    "        return value # return the value at the front of the list\n",
    "    \n",
    "    def is_empty(self): # define empty method explicitly for queue\n",
    "        \"\"\"Method to determine if the queue is empty, returns boolean\"\"\"\n",
    "        return self.size == 0 # return boolean based on if the size if 0, size is inherited from superclass\n",
    "    \n",
    "    def front(self): # define front method for queue\n",
    "        \"\"\"Method to return the value at the front of the list without removing it, raises IndexError when queue empty\"\"\"\n",
    "        if self.is_empty(): # use is_empty method to check if the queue is empty\n",
    "            raise IndexError(\"Error queue is empty\") # if empty raise error\n",
    "        return self.head.get_element() # return the head element value"
   ]
  },
  {
   "cell_type": "markdown",
   "metadata": {},
   "source": [
    "### Give examples to test the operation of queue such as adding new elements to the list and removing elements from the list. "
   ]
  },
  {
   "cell_type": "code",
   "execution_count": 21,
   "metadata": {},
   "outputs": [
    {
     "data": {
      "text/plain": [
       "3"
      ]
     },
     "execution_count": 21,
     "metadata": {},
     "output_type": "execute_result"
    }
   ],
   "source": [
    "# test queue enqueue and dequeue as expected\n",
    "q = myQueue()\n",
    "q.enqueue(1)\n",
    "q.enqueue(2)\n",
    "q.enqueue(3)\n",
    "q.dequeue()\n",
    "q.dequeue()\n",
    "q.dequeue()"
   ]
  },
  {
   "cell_type": "code",
   "execution_count": 22,
   "metadata": {},
   "outputs": [
    {
     "data": {
      "text/plain": [
       "0"
      ]
     },
     "execution_count": 22,
     "metadata": {},
     "output_type": "execute_result"
    }
   ],
   "source": [
    "# Test queue size works as expected\n",
    "q = myQueue()\n",
    "q.enqueue(1)\n",
    "q.enqueue(2)\n",
    "q.enqueue(3)\n",
    "q.dequeue()\n",
    "q.dequeue()\n",
    "q.dequeue()\n",
    "q.size"
   ]
  },
  {
   "cell_type": "code",
   "execution_count": 23,
   "metadata": {},
   "outputs": [
    {
     "data": {
      "text/plain": [
       "2"
      ]
     },
     "execution_count": 23,
     "metadata": {},
     "output_type": "execute_result"
    }
   ],
   "source": [
    "# Test queue size works as expected\n",
    "q = myQueue()\n",
    "q.enqueue(1)\n",
    "q.enqueue(2)\n",
    "q.enqueue(3)\n",
    "q.dequeue()\n",
    "q.size"
   ]
  },
  {
   "cell_type": "code",
   "execution_count": 24,
   "metadata": {},
   "outputs": [
    {
     "data": {
      "text/plain": [
       "False"
      ]
     },
     "execution_count": 24,
     "metadata": {},
     "output_type": "execute_result"
    }
   ],
   "source": [
    "# Test queue empty works as expected\n",
    "q = myQueue()\n",
    "q.enqueue(1)\n",
    "q.enqueue(2)\n",
    "q.enqueue(3)\n",
    "q.dequeue()\n",
    "q.is_empty()"
   ]
  },
  {
   "cell_type": "code",
   "execution_count": 25,
   "metadata": {},
   "outputs": [
    {
     "data": {
      "text/plain": [
       "True"
      ]
     },
     "execution_count": 25,
     "metadata": {},
     "output_type": "execute_result"
    }
   ],
   "source": [
    "# Test queue empty works as expected\n",
    "q = myQueue()\n",
    "q.enqueue(1)\n",
    "q.dequeue()\n",
    "q.is_empty()"
   ]
  },
  {
   "cell_type": "code",
   "execution_count": 26,
   "metadata": {},
   "outputs": [
    {
     "data": {
      "text/plain": [
       "1"
      ]
     },
     "execution_count": 26,
     "metadata": {},
     "output_type": "execute_result"
    }
   ],
   "source": [
    "# Test queue front works as expected\n",
    "Q = myQueue()\n",
    "Q.enqueue(1)\n",
    "Q.enqueue(2)\n",
    "Q.front()"
   ]
  },
  {
   "cell_type": "markdown",
   "metadata": {},
   "source": [
    "### 2) What values are returned during the following sequence of queue operations, if executed on an initially empty queue Q?enqueue(5), enqueue(3), dequeue(), enqueue(2), enqueue(8),dequeue(), dequeue(), enqueue(9), enqueue(1), dequeue(),enqueue(7), enqueue(6), dequeue(), dequeue(), enqueue(4),dequeue(), dequeue()"
   ]
  },
  {
   "cell_type": "code",
   "execution_count": 27,
   "metadata": {},
   "outputs": [
    {
     "name": "stdout",
     "output_type": "stream",
     "text": [
      "5\n",
      "3\n",
      "2\n",
      "8\n",
      "9\n",
      "1\n",
      "7\n",
      "6\n"
     ]
    }
   ],
   "source": [
    "q = myQueue()\n",
    "q.enqueue(5) \n",
    "q.enqueue(3) \n",
    "print(q.dequeue()) \n",
    "q.enqueue(2) \n",
    "q.enqueue(8)\n",
    "print(q.dequeue()) \n",
    "print(q.dequeue()) \n",
    "q.enqueue(9) \n",
    "q.enqueue(1) \n",
    "print(q.dequeue())\n",
    "q.enqueue(7) \n",
    "q.enqueue(6) \n",
    "print(q.dequeue()) \n",
    "print(q.dequeue()) \n",
    "q.enqueue(4)\n",
    "print(q.dequeue()) \n",
    "print(q.dequeue())"
   ]
  },
  {
   "cell_type": "markdown",
   "metadata": {},
   "source": [
    "### 3) Suppose an initially empty queue Q has executed a total of 50 enqueue operations, 15 top operations, and 15 dequeueoperations, 5 of which raised Empty errors that were caughtand ignored.  What is the current size of Q?"
   ]
  },
  {
   "cell_type": "code",
   "execution_count": 28,
   "metadata": {},
   "outputs": [
    {
     "name": "stdout",
     "output_type": "stream",
     "text": [
      "Empty error caught and ignored!\n",
      "Empty error caught and ignored!\n",
      "Empty error caught and ignored!\n",
      "Empty error caught and ignored!\n",
      "Empty error caught and ignored!\n",
      "Current size of Q is: 40\n"
     ]
    }
   ],
   "source": [
    "Q = myQueue()\n",
    "\n",
    "for i in range(5):\n",
    "    try:\n",
    "        Q.dequeue()\n",
    "    except IndexError:\n",
    "        print(\"Empty error caught and ignored!\")\n",
    "\n",
    "for i in range(50):\n",
    "    Q.enqueue(i)\n",
    "    \n",
    "for i in range(15):\n",
    "    Q.front()\n",
    "    \n",
    "for i in range(10):\n",
    "    Q.dequeue()\n",
    "    \n",
    "print(\"Current size of Q is:\", Q.size)"
   ]
  },
  {
   "cell_type": "markdown",
   "metadata": {},
   "source": [
    "## Queue unit tests"
   ]
  },
  {
   "cell_type": "code",
   "execution_count": 29,
   "metadata": {},
   "outputs": [
    {
     "name": "stderr",
     "output_type": "stream",
     "text": [
      "test1 (__main__.TestLinkedList)\n",
      "Test list traversal output works as expected for adding last ... ok\n",
      "test2 (__main__.TestLinkedList)\n",
      "Test list traversal output works as expected for adding first ... ok\n",
      "test3 (__main__.TestLinkedList)\n",
      "Test list traversal output works as expected for adding first and last ... ok\n",
      "test4 (__main__.TestLinkedList)\n",
      "Test list traversal output works as expected for more adding ... ok\n",
      "test5 (__main__.TestLinkedList)\n",
      "Test size attribute works as expected for adding and removing ... ok\n",
      "test6 (__main__.TestLinkedList)\n",
      "Test error rasied when removing too many elements ... ok\n",
      "test7 (__main__.TestLinkedList)\n",
      "Test size attribute works as expected for adding and removing ... ok\n",
      "test8 (__main__.TestLinkedList)\n",
      "Test error rasied when removing too many elements ... ok\n",
      "test1 (__main__.TestQueue)\n",
      "Test queue enqueue and dequeue operations work as expected ... ok\n",
      "test2 (__main__.TestQueue)\n",
      "Test queue enqueue and dequeue operations work as expected more rigorously ... ok\n",
      "test3 (__main__.TestQueue)\n",
      "Test queue enqueue and dequeue operations work very strict ... ok\n",
      "test4 (__main__.TestQueue)\n",
      "Test size attribute works for queue implementation ... ok\n",
      "test5 (__main__.TestQueue)\n",
      "Test size attribute works with dequeue method ... ok\n",
      "test6 (__main__.TestQueue)\n",
      "Test front method works as expected ... ok\n",
      "test7 (__main__.TestQueue)\n",
      "Test index error raised when using front an empty queue ... ok\n",
      "test8 (__main__.TestQueue)\n",
      "Test index error raised when using dequeue an empty queue ... ok\n",
      "test1 (__main__.TestStack)\n",
      "Test push and pop values as expected ... ok\n",
      "test3 (__main__.TestStack)\n",
      "Test push and pop values as expected rigorously ... ok\n",
      "test4 (__main__.TestStack)\n",
      "Test index error raised when popping an empty stack ... ok\n",
      "test5 (__main__.TestStack)\n",
      "Test index error raised when peeking an empty stack ... ok\n",
      "test6 (__main__.TestStack)\n",
      "Test that size attribute is accurate after pushing values ... ok\n",
      "test7 (__main__.TestStack)\n",
      "Test that size attribute is accurate after pushing and popping values ... ok\n",
      "test8 (__main__.TestStack)\n",
      "Testing peek rigorously ... ok\n",
      "test_2 (__main__.TestStack)\n",
      "Testing adding different data types to the stack ... ok\n",
      "\n",
      "----------------------------------------------------------------------\n",
      "Ran 24 tests in 0.018s\n",
      "\n",
      "OK\n"
     ]
    },
    {
     "data": {
      "text/plain": [
       "<unittest.main.TestProgram at 0x21513903c40>"
      ]
     },
     "execution_count": 29,
     "metadata": {},
     "output_type": "execute_result"
    }
   ],
   "source": [
    "# these unit tests are based on the code presented in lab 3\n",
    "class TestQueue(unittest.TestCase):\n",
    "    \"\"\"Unit tests for the myQueue class\"\"\"\n",
    "    def test1(self):\n",
    "        \"\"\"Test queue enqueue and dequeue operations work as expected\"\"\"\n",
    "        Q = myQueue()\n",
    "        Q.enqueue(1)\n",
    "        Q.enqueue(2)\n",
    "        self.assertTrue(Q.dequeue() == 1)\n",
    "        \n",
    "    def test2(self):\n",
    "        \"\"\"Test queue enqueue and dequeue operations work as expected more rigorously\"\"\"\n",
    "        Q = myQueue()\n",
    "        Q.enqueue(-1)\n",
    "        Q.enqueue(\"string\")\n",
    "        Q.enqueue(True)\n",
    "        self.assertTrue(Q.dequeue() == -1)\n",
    "        \n",
    "    def test3(self):\n",
    "        \"\"\"Test queue enqueue and dequeue operations work very strict\"\"\"\n",
    "        Q = myQueue()\n",
    "        Q.enqueue(1)\n",
    "        Q.enqueue(2)\n",
    "        Q.enqueue(3)\n",
    "        Q.enqueue(4)\n",
    "        Q.enqueue(5)\n",
    "        self.assertTrue(Q.dequeue() == 1)\n",
    "        self.assertTrue(Q.dequeue() == 2)\n",
    "        self.assertTrue(Q.dequeue() == 3)\n",
    "        self.assertTrue(Q.dequeue() == 4)\n",
    "        self.assertTrue(Q.dequeue() == 5)\n",
    "        \n",
    "    def test4(self):\n",
    "        \"\"\"Test size attribute works for queue implementation\"\"\"\n",
    "        Q = myQueue()\n",
    "        Q.enqueue(1)\n",
    "        Q.enqueue(2)\n",
    "        Q.enqueue(3)\n",
    "        Q.enqueue(4)\n",
    "        Q.enqueue(5)\n",
    "        self.assertTrue(Q.size == 5)\n",
    "        \n",
    "    def test5(self):\n",
    "        \"\"\"Test size attribute works with dequeue method\"\"\"\n",
    "        Q = myQueue()\n",
    "        Q.enqueue(1)\n",
    "        Q.enqueue(2)\n",
    "        Q.enqueue(3)\n",
    "        Q.dequeue()\n",
    "        Q.dequeue()\n",
    "        self.assertTrue(Q.size == 1)\n",
    "        \n",
    "    def test6(self):\n",
    "        \"\"\"Test front method works as expected\"\"\"\n",
    "        Q = myQueue()\n",
    "        Q.enqueue(1)\n",
    "        self.assertTrue(Q.front() == 1)\n",
    "        Q.enqueue(2)\n",
    "        self.assertTrue(Q.front() == 1)\n",
    "        Q.enqueue(3)\n",
    "        self.assertTrue(Q.front() == 1)\n",
    "        Q.dequeue()\n",
    "        self.assertTrue(Q.front() == 2)\n",
    "        \n",
    "    def test7(self):\n",
    "        \"\"\"Test index error raised when using front an empty queue\"\"\"\n",
    "        Q = myQueue()\n",
    "        with self.assertRaises(IndexError):\n",
    "            Q.front()\n",
    "            \n",
    "            \n",
    "    def test8(self):\n",
    "        \"\"\"Test index error raised when using dequeue an empty queue\"\"\"\n",
    "        Q = myQueue()\n",
    "        with self.assertRaises(IndexError):\n",
    "            Q.dequeue()\n",
    "\n",
    "unittest.main(argv=[''], verbosity=2, exit=False)"
   ]
  },
  {
   "cell_type": "markdown",
   "metadata": {},
   "source": [
    "# Creativity\n"
   ]
  },
  {
   "cell_type": "code",
   "execution_count": 35,
   "metadata": {},
   "outputs": [],
   "source": [
    "LL = myLinkedList()\n",
    "Q = myQueue()\n",
    "S = myStack()\n",
    "L = list()\n",
    "\n",
    "\n",
    "LLtime = []\n",
    "Qtime = []\n",
    "Stime = []\n",
    "Ltime = []\n",
    "\n",
    "LLsize = []\n",
    "Qsize = []\n",
    "Ssize = []\n",
    "Lsize = []\n",
    "\n",
    "LLdtime = []\n",
    "Qdtime = []\n",
    "Sdtime = []\n",
    "Ldtime = []\n",
    "\n",
    "\n",
    "def add_time(func, val): # function to determine the amount of time taken to add a element to the data structure\n",
    "    start_time = time.perf_counter()\n",
    "    func(val)\n",
    "    end = time.perf_counter()\n",
    "    return end - start_time\n",
    "\n",
    "def find_size(struc): # function to get the size of the linked list, stack and queue data structures\n",
    "    element = struc.head\n",
    "    total = 0\n",
    "    while element != None:\n",
    "        total += sys.getsizeof(element)\n",
    "        element = element.get_next()\n",
    "    return total\n",
    "\n",
    "def remove_time(func): # function to determine the amount of time taken to remove an element from a data structure\n",
    "    start_time = time.perf_counter()\n",
    "    func()\n",
    "    end = time.perf_counter()\n",
    "    return end - start_time\n",
    "\n",
    "for i in range(1000): # for i in range 0 to 1000\n",
    "    LLtime.append(add_time(LL.add_first, i)) # get time to add to linked list and add it to LLtime list\n",
    "    Qtime.append(add_time(Q.enqueue,i))\n",
    "    Stime.append(add_time(S.push, i))\n",
    "    Ltime.append(add_time(L.append, i))\n",
    "    LLsize.append(find_size(LL)) # find size of linked list using above function\n",
    "    Qsize.append(find_size(Q))\n",
    "    Ssize.append(find_size(S))\n",
    "    Lsize.append(sys.getsizeof(L))\n",
    "    \n",
    "for i in range(1000):\n",
    "    LLdtime.append(remove_time(LL.remove_first)) # find time taken to remove element from linked list\n",
    "    Qdtime.append(remove_time(Q.dequeue))\n",
    "    Sdtime.append(remove_time(S.pop))\n",
    "    Ldtime.append(remove_time(L.pop))"
   ]
  },
  {
   "cell_type": "code",
   "execution_count": 36,
   "metadata": {},
   "outputs": [
    {
     "data": {
      "text/plain": [
       "Text(0, 0.5, 'Time to input value')"
      ]
     },
     "execution_count": 36,
     "metadata": {},
     "output_type": "execute_result"
    },
    {
     "data": {
      "image/png": "[encoded data removed]",
      "text/plain": [
       "<Figure size 720x720 with 1 Axes>"
      ]
     },
     "metadata": {
      "needs_background": "light"
     },
     "output_type": "display_data"
    }
   ],
   "source": [
    "plt.figure(figsize=(10,10))\n",
    "plt.plot(LLtime, label=\"Linked List\")\n",
    "plt.plot(Qtime, label=\"Queue\")\n",
    "plt.plot(Stime, label=\"Stack\")\n",
    "plt.plot(Ltime, label=\"List\")\n",
    "plt.legend()\n",
    "plt.title(\"Running time vs input size\")\n",
    "plt.xlabel(\"Size of data structure\")\n",
    "plt.ylabel(\"Time to input value\")\n",
    "#plt.savefig(\"running_time_input.png\")"
   ]
  },
  {
   "cell_type": "code",
   "execution_count": 37,
   "metadata": {},
   "outputs": [],
   "source": [
    "LLdtime.reverse() # reverse the list as we removed from a list of 1000 first then 999, then 998... for plotting makes easier\n",
    "Qdtime.reverse()\n",
    "Sdtime.reverse()\n",
    "Ldtime.reverse()"
   ]
  },
  {
   "cell_type": "code",
   "execution_count": 38,
   "metadata": {},
   "outputs": [
    {
     "data": {
      "text/plain": [
       "Text(0, 0.5, 'Time to remove value')"
      ]
     },
     "execution_count": 38,
     "metadata": {},
     "output_type": "execute_result"
    },
    {
     "data": {
      "image/png": "[encoded data removed]",
      "text/plain": [
       "<Figure size 720x720 with 1 Axes>"
      ]
     },
     "metadata": {
      "needs_background": "light"
     },
     "output_type": "display_data"
    }
   ],
   "source": [
    "x = np.linspace(100000, 0, 100000)\n",
    "plt.figure(figsize=(10,10))\n",
    "plt.plot(LLdtime, label=\"Linked List\")\n",
    "plt.plot(Qdtime, label=\"Queue\")\n",
    "plt.plot(Sdtime, label=\"Stack\")\n",
    "plt.plot(Ldtime, label=\"List\")\n",
    "plt.legend()\n",
    "plt.title(\"Running time vs removal from different sized data structures\")\n",
    "plt.xlabel(\"Size of data structure\")\n",
    "plt.ylabel(\"Time to remove value\")\n",
    "#plt.savefig(\"running_time_removal.png\")"
   ]
  },
  {
   "cell_type": "code",
   "execution_count": 39,
   "metadata": {},
   "outputs": [
    {
     "data": {
      "text/plain": [
       "Text(0, 0.5, 'Memory size bytes')"
      ]
     },
     "execution_count": 39,
     "metadata": {},
     "output_type": "execute_result"
    },
    {
     "data": {
      "image/png": "[encoded data removed]",
      "text/plain": [
       "<Figure size 720x720 with 1 Axes>"
      ]
     },
     "metadata": {
      "needs_background": "light"
     },
     "output_type": "display_data"
    }
   ],
   "source": [
    "plt.figure(figsize=(10,10))\n",
    "plt.plot(LLsize, label=\"Linked List\")\n",
    "plt.plot(Qsize, label=\"Queue\")\n",
    "plt.plot(Ssize, label=\"Stack\")\n",
    "plt.plot(Lsize, label=\"List\")\n",
    "plt.legend()\n",
    "plt.title(\"Memory usage vs input size\")\n",
    "plt.xlabel(\"Size of data structure\")\n",
    "plt.ylabel(\"Memory size bytes\")\n",
    "#plt.savefig(\"memory_usage.png\")"
   ]
  },
  {
   "cell_type": "code",
   "execution_count": null,
   "metadata": {},
   "outputs": [],
   "source": []
  },
  {
   "cell_type": "code",
   "execution_count": null,
   "metadata": {},
   "outputs": [],
   "source": []
  }
 ],
 "metadata": {
  "kernelspec": {
   "display_name": "Python 3",
   "language": "python",
   "name": "python3"
  },
  "language_info": {
   "codemirror_mode": {
    "name": "ipython",
    "version": 3
   },
   "file_extension": ".py",
   "mimetype": "text/x-python",
   "name": "python",
   "nbconvert_exporter": "python",
   "pygments_lexer": "ipython3",
   "version": "3.8.3"
  }
 },
 "nbformat": 4,
 "nbformat_minor": 4
}
